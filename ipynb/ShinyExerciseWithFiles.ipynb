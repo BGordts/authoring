{
 "cells": [
  {
   "cell_type": "markdown",
   "metadata": {
    "tags": [
     "type:ShinyExercise",
     "xp:100",
     "key:asdf8234asd0"
    ]
   },
   "source": [
    "## Shiny Exercise with Files\n",
    "\n",
    "This is an introductory exercise for Shiny"
   ]
  },
  {
   "cell_type": "markdown",
   "metadata": {
    "tags": [
     "instructions"
    ]
   },
   "source": [
    "Build an awesome app!"
   ]
  },
  {
   "cell_type": "code",
   "execution_count": null,
   "metadata": {
    "collapsed": true,
    "tags": [
     "sample_code"
    ]
   },
   "outputs": [],
   "source": [
    "runApp(appDir = \".\")"
   ]
  },
  {
   "cell_type": "code",
   "execution_count": null,
   "metadata": {
    "collapsed": true,
    "tags": [
     "sample_code"
    ]
   },
   "outputs": [],
   "source": []
  }
 ],
 "metadata": {
  "celltoolbar": "Tags",
  "kernelspec": {
   "display_name": "R",
   "language": "R",
   "name": "ir"
  },
  "language_info": {
   "codemirror_mode": "r",
   "file_extension": ".r",
   "mimetype": "text/x-r-source",
   "name": "R",
   "pygments_lexer": "r",
   "version": "3.4.1"
  }
 },
 "nbformat": 4,
 "nbformat_minor": 2
}
