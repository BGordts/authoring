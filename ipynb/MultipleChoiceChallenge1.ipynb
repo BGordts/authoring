{
 "cells": [
  {
   "cell_type": "markdown",
   "metadata": {
    "tags": [
     "type:MultipleChoiceChallenge",
     "key:110koxIYCW76XZzK42fH16CnsjJMM8Jymzo",
     "difficulty:1"
    ]
   },
   "source": [
    "## Choose the right answer\n",
    "\n",
    "What are the optional arguments to the function `fun_1()`?\n",
    "  \n",
    "```python\n",
    "fun_1(p, r1 q = 0, r2 = TRUE)\n",
    "```"
   ]
  },
  {
   "cell_type": "markdown",
   "metadata": {
    "tags": [
     "options"
    ]
   },
   "source": [
    "- p and q\n",
    "- p and r1\n",
    "- p and r2\n",
    "- q and r1\n",
    "- r1 and r2\n",
    "- [q and r2]"
   ]
  },
  {
   "cell_type": "markdown",
   "metadata": {},
   "source": [
    "***\n",
    "\n",
    "What are the optional arguments to the function `fun_2()`?\n",
    "  \n",
    "```r\n",
    "fun_2(r1, q, p = FALSE, r2 = 1)\n",
    "```"
   ]
  },
  {
   "cell_type": "markdown",
   "metadata": {
    "tags": [
     "options"
    ]
   },
   "source": [
    "- [p and r2]\n",
    "- p and r1\n",
    "- q and r2\n",
    "- p and q\n",
    "- r1 and q\n",
    "- r1 and r2"
   ]
  },
  {
   "cell_type": "markdown",
   "metadata": {},
   "source": [
    "***\n",
    "\n",
    "What are the required arguments to the function `fun_3()`?\n",
    "  \n",
    "```r\n",
    "fun_3(r1, q, p = FALSE, r2 = 1)\n",
    "```"
   ]
  },
  {
   "cell_type": "markdown",
   "metadata": {
    "tags": [
     "options"
    ]
   },
   "source": [
    "- p and r2\n",
    "- p and r1\n",
    "- q and r2\n",
    "- p and q\n",
    "- [r1 and q]\n",
    "- r1 and r2"
   ]
  },
  {
   "cell_type": "markdown",
   "metadata": {},
   "source": [
    "What are the required arguments to the function `fun_4()`?\n",
    "  \n",
    "```r\n",
    "fun_4(p, r1 q = 0, r2 = TRUE)\n",
    "```"
   ]
  },
  {
   "cell_type": "code",
   "execution_count": null,
   "metadata": {
    "collapsed": true,
    "tags": [
     "options"
    ]
   },
   "outputs": [],
   "source": [
    "- p and q\n",
    "- [p and r1]\n",
    "- p and r2\n",
    "- q and r1\n",
    "- r1 and r2\n",
    "- q and r2"
   ]
  }
 ],
 "metadata": {
  "celltoolbar": "Tags",
  "kernelspec": {
   "display_name": "Python 3",
   "language": "python",
   "name": "python3"
  },
  "language_info": {
   "codemirror_mode": {
    "name": "ipython",
    "version": 3
   },
   "file_extension": ".py",
   "mimetype": "text/x-python",
   "name": "python",
   "nbconvert_exporter": "python",
   "pygments_lexer": "ipython3",
   "version": "3.6.0"
  }
 },
 "nbformat": 4,
 "nbformat_minor": 2
}
